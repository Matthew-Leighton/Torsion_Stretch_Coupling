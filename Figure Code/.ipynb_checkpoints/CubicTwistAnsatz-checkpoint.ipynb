{
 "cells": [
  {
   "cell_type": "code",
   "execution_count": 6,
   "id": "approximate-physics",
   "metadata": {},
   "outputs": [],
   "source": [
    "import numpy as np\n",
    "import matplotlib.pyplot as plt\n"
   ]
  },
  {
   "cell_type": "markdown",
   "id": "literary-christopher",
   "metadata": {},
   "source": [
    "We try a cubic ansatz for the twist function:\n",
    "$$ \\psi(r) = ar^3 + br^2 + cr + d,$$\n",
    "for $r\\in[0,1]$.\n",
    "\n",
    "There are three twist angle measurements that we have data for: the surface twist $\\psi(R)$, the volume-averaged twist $\\langle \\psi\\rangle$, and the mean-squared twist $\\langle \\psi^2\\rangle$. For the Bell data these are roughly given by $\\psi(R)=0.3$, $\\langle\\psi\\rangle=0.28$, and $\\langle\\psi^2\\rangle=0.01$. The functions below compute the three measurements for the cubic twist function."
   ]
  },
  {
   "cell_type": "code",
   "execution_count": null,
   "id": "english-channels",
   "metadata": {},
   "outputs": [],
   "source": [
    "def psi(r,a,b,c,d):\n",
    "    return a*r**3 + b*r**2 + c*r + d"
   ]
  },
  {
   "cell_type": "code",
   "execution_count": 12,
   "id": "stunning-suicide",
   "metadata": {},
   "outputs": [],
   "source": [
    "# Surface Twist:\n",
    "\n",
    "def SurfaceTwist(a,b,c,d):\n",
    "    return a+b+c+d"
   ]
  },
  {
   "cell_type": "code",
   "execution_count": 13,
   "id": "cardiac-there",
   "metadata": {},
   "outputs": [],
   "source": [
    "# Volume-Averaged Twist:\n",
    "\n",
    "def MeanTwist(a,b,c,d):\n",
    "    return (2/5)*a + (1/2)*b + (2/3)*c + d"
   ]
  },
  {
   "cell_type": "code",
   "execution_count": 14,
   "id": "immediate-killing",
   "metadata": {},
   "outputs": [],
   "source": [
    "# Mean-Squared Twist:\n",
    "\n",
    "def MeanSquaredTwist(a,b,c,d):\n",
    "    return (1/4)*a**2 + (4/7)*a*b + (2/3)*a*c + (4/5)*a*d + (1/3)*b**2 + (4/5)*b*c + b*d + (1/2)*c**2 + (4/3)*c*d + d**2"
   ]
  },
  {
   "cell_type": "code",
   "execution_count": null,
   "id": "tamil-norwegian",
   "metadata": {},
   "outputs": [],
   "source": []
  },
  {
   "cell_type": "code",
   "execution_count": 68,
   "id": "given-investigator",
   "metadata": {},
   "outputs": [],
   "source": [
    "def a_sol(psi_R,b,c,d):\n",
    "    return psi_R - b - c - d\n",
    "\n",
    "def b_sol(psi_R,mean_psi,c,d):\n",
    "    return -(2/3)*(4*c + 9*d - 15*mean_psi + 6*psi_R)\n",
    "\n",
    "def c_sol_1(psi_R,mean_psi,mean_psi_squared,d):\n",
    "    return (-63*d+30*(mean_psi)+33*(psi_R)-3*np.sqrt(6)*np.sqrt(-9*d**2+770*mean_psi_squared-900*(mean_psi)**2-11*(psi_R)*(2*d+9*(psi_R))+20*(mean_psi)*(2*d+11*(psi_R)))) /11\n",
    "            \n",
    "def c_sol_2(psi_R,mean_psi,mean_psi_squared,d):\n",
    "    return (-63*d+30*(mean_psi)+33*(psi_R)+3*np.sqrt(6)*np.sqrt(-9*d**2+770*mean_psi_squared-900*(mean_psi)**2-11*(psi_R)*(2*d+9*(psi_R))+20*(mean_psi)*(2*d+11*(psi_R))))/11\n",
    "\n",
    "def c_sol_3(psi_R,mean_psi,mean_psi_squared,d):\n",
    "    return (-63*d+30*(mean_psi)+33*(psi_R))/11\n",
    "\n",
    "\n",
    "            "
   ]
  },
  {
   "cell_type": "code",
   "execution_count": 65,
   "id": "expired-hollow",
   "metadata": {},
   "outputs": [],
   "source": [
    "# Bell Data:\n",
    "\n",
    "psi_R = 0.3\n",
    "mean_psi=0.28\n",
    "mean_psi_squared = 0.01"
   ]
  },
  {
   "cell_type": "code",
   "execution_count": 69,
   "id": "juvenile-iceland",
   "metadata": {},
   "outputs": [
    {
     "name": "stdout",
     "output_type": "stream",
     "text": [
      "1.6636363636363638\n"
     ]
    }
   ],
   "source": [
    "d = 0\n",
    "\n",
    "c = c_sol_3(psi_R,mean_psi,mean_psi_squared,d)\n",
    "\n",
    "b = b_sol(psi_R,mean_psi,c,d)\n",
    "\n",
    "a = a_sol(psi_R,b,c,d)\n",
    "\n",
    "print(c)"
   ]
  },
  {
   "cell_type": "code",
   "execution_count": null,
   "id": "liked-seeker",
   "metadata": {},
   "outputs": [],
   "source": [
    "r_array = np.linspace(0,1,num=1000)\n",
    "\n",
    "plt.plot(r_array,)"
   ]
  },
  {
   "cell_type": "code",
   "execution_count": 67,
   "id": "apart-diagnosis",
   "metadata": {},
   "outputs": [
    {
     "data": {
      "image/png": "[encoded data removed]",
      "text/plain": [
       "<Figure size 432x288 with 1 Axes>"
      ]
     },
     "metadata": {
      "needs_background": "light"
     },
     "output_type": "display_data"
    }
   ],
   "source": [
    "d_list = np.linspace(-1,1)\n",
    "\n",
    "def thingy(psi_R,mean_psi,mean_psi_squared,d):\n",
    "    return -9*d**2 + 770*mean_psi_squared - 900*(mean_psi)**2 - 11*(psi_R)*(2*d+9*(psi_R)) + 20*(mean_psi)*(2*d+11*(psi_R))\n",
    "\n",
    "plt.plot(d_list,thingy(psi_R,mean_psi,mean_psi_squared,d_list))\n",
    "plt.show()"
   ]
  },
  {
   "cell_type": "code",
   "execution_count": null,
   "id": "golden-latest",
   "metadata": {},
   "outputs": [],
   "source": []
  },
  {
   "cell_type": "code",
   "execution_count": null,
   "id": "affecting-replacement",
   "metadata": {},
   "outputs": [],
   "source": []
  }
 ],
 "metadata": {
  "kernelspec": {
   "display_name": "Python 3",
   "language": "python",
   "name": "python3"
  },
  "language_info": {
   "codemirror_mode": {
    "name": "ipython",
    "version": 3
   },
   "file_extension": ".py",
   "mimetype": "text/x-python",
   "name": "python",
   "nbconvert_exporter": "python",
   "pygments_lexer": "ipython3",
   "version": "3.9.0"
  }
 },
 "nbformat": 4,
 "nbformat_minor": 5
}
